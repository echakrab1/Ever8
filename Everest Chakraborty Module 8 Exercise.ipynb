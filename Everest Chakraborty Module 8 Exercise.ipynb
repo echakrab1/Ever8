{
 "cells": [
  {
   "cell_type": "markdown",
   "metadata": {},
   "source": [
    "### Exercise 1\n",
    "Ask for an exam score and store that number. If the number is greater than 100, then print out 'You cannot have an exam score higher than 100'. If the number doesn't exceeed 100 but is greater than or equal to 75, then print out 'You did great on your exam!'. Otherwise if they scored lower than 75, then print out 'You need to study harder'."
   ]
  },
  {
   "cell_type": "code",
   "execution_count": 23,
   "metadata": {},
   "outputs": [
    {
     "name": "stdout",
     "output_type": "stream",
     "text": [
      "Please enter an exam score: -41\n",
      "You need to study harder.\n"
     ]
    }
   ],
   "source": [
    "score = int(input(\"Please enter an exam score: \"))\n",
    "\n",
    "if score > 100 :\n",
    "    print(\"You cannot have an exam score higher than 100.\")\n",
    "elif score <= 100 and score >= 75 :\n",
    "    print(\"You did great on your exam!\")\n",
    "else: \n",
    "    print(\"You need to study harder.\")\n"
   ]
  },
  {
   "cell_type": "code",
   "execution_count": null,
   "metadata": {},
   "outputs": [],
   "source": []
  },
  {
   "cell_type": "markdown",
   "metadata": {},
   "source": [
    "### Exercise 2\n",
    "Ask a user to enter two numbers and find their average. Then, print out the average and whether each number is below or above average. Determine if a function should be created or not.\n",
    "    "
   ]
  },
  {
   "cell_type": "code",
   "execution_count": 39,
   "metadata": {},
   "outputs": [],
   "source": [
    "def calc_aver(x,y) :\n",
    "    v = x + y \n",
    "    z = v / 2\n",
    "    return z \n",
    "    "
   ]
  },
  {
   "cell_type": "code",
   "execution_count": 43,
   "metadata": {},
   "outputs": [
    {
     "name": "stdout",
     "output_type": "stream",
     "text": [
      "Please enter the first number: 4\n",
      "Please enter the second number: 2\n",
      "3.0\n",
      "3.0 is less than 4.0.\n",
      "3.0 is greater than 2.0.\n"
     ]
    }
   ],
   "source": [
    "numb1 = float(input(\"Please enter the first number: \"))\n",
    "numb2 = float(input(\"Please enter the second number: \"))\n",
    "average = calc_aver(numb1, numb2) \n",
    "\n",
    "if average > numb1 : \n",
    "    msg1 = (f\"{average} is greater than {numb1}.\")\n",
    "elif average < numb1 :\n",
    "    msg1 = (f\"{average} is less than {numb1}.\")\n",
    "else :\n",
    "    msg1 = (\"The average is equal to the first number.\")\n",
    "\n",
    "if average > numb2 :\n",
    "    msg2 = (f\"{average} is greater than {numb2}.\")\n",
    "elif average < numb2 :\n",
    "    msg2 = (f\"{average} is less than {numb2}.\")\n",
    "else :\n",
    "    msg2 = (\"The average is equal to the second number\")\n",
    "       \n",
    "print(average)\n",
    "print(msg1)\n",
    "print(msg2)"
   ]
  },
  {
   "cell_type": "code",
   "execution_count": 31,
   "metadata": {},
   "outputs": [
    {
     "name": "stdout",
     "output_type": "stream",
     "text": [
      "36.5 is higher than 21.0.\n"
     ]
    }
   ],
   "source": []
  },
  {
   "cell_type": "markdown",
   "metadata": {},
   "source": [
    "### Exercise 3\n",
    "Write a function to convert a test score to a grade where  \n",
    " - 90 - 100: A\n",
    " - 80 - 89:  B\n",
    " - 70 - 79:  C\n",
    " - 60 - 69:  D\n",
    " - < 60   :  F\n",
    " \n",
    "If a score is not between 0 and 100 then print out an error message. In the program, ask the user for a score and then call your function. Challenge add more detail with +,regular, and - to each letter grade distinction."
   ]
  },
  {
   "cell_type": "code",
   "execution_count": 36,
   "metadata": {},
   "outputs": [],
   "source": [
    "def grade_score(x) :\n",
    "    if x > 100 :\n",
    "        print(\"Error, try again.\")\n",
    "    elif x == 100 :\n",
    "        print(\"A+\")\n",
    "    elif x >= 97 :\n",
    "        print(\"A+\")\n",
    "    elif x >= 94 :\n",
    "        print(\"A\")\n",
    "    elif x >= 90 :\n",
    "        print(\"A-\")\n",
    "    elif x >= 87 : \n",
    "        print(\"B+\")\n",
    "    elif x >= 84 :\n",
    "        print(\"B\")\n",
    "    elif x >= 80 :\n",
    "        print(\"B-\")\n",
    "    elif x >= 77 :\n",
    "        print(\"C+\")\n",
    "    elif x >= 74 :\n",
    "        print(\"C\")\n",
    "    elif x >= 70 :\n",
    "        print(\"C-\")\n",
    "    elif x >= 67 :\n",
    "        print(\"D+\")\n",
    "    elif x >= 64 :\n",
    "        print(\"D\")\n",
    "    elif x >= 60 :\n",
    "        print(\"D-\")\n",
    "    elif x >= 0 :\n",
    "        print(\"F\")\n",
    "    else :\n",
    "        print(\"Error, try again.\")\n",
    "    return x"
   ]
  },
  {
   "cell_type": "code",
   "execution_count": 39,
   "metadata": {},
   "outputs": [
    {
     "name": "stdout",
     "output_type": "stream",
     "text": [
      "Please enter a test score: 63\n",
      "D-\n",
      "\n"
     ]
    }
   ],
   "source": [
    "exam_score = int(input(\"Please enter a test score: \"))\n",
    "test_score = grade_score(exam_score)\n",
    "print(\"\")"
   ]
  },
  {
   "cell_type": "code",
   "execution_count": null,
   "metadata": {},
   "outputs": [],
   "source": []
  },
  {
   "cell_type": "markdown",
   "metadata": {},
   "source": [
    "### Exercise 4\n",
    "Convert following decimal number to a binary number by hand:\n",
    "\n",
    "    61\n",
    "    15\n",
    "    71\n",
    "    "
   ]
  },
  {
   "cell_type": "code",
   "execution_count": null,
   "metadata": {},
   "outputs": [],
   "source": [
    "# 61-32 = 29, 29-16 = 13, 13-8 = 5, 5-4 = 1, 1-1 = 0; this comes out to: 0011 1101\n",
    "# 15-8 = 7, 7-4 = 3, 3-2 = 1, 1-1 = 0; this comes out to: 0000 1111\n",
    "# 71-64 = 7, 7-4 = 3, 3-2 = 1, 1-1 = 0; this comes out to: 0100 0111"
   ]
  },
  {
   "cell_type": "code",
   "execution_count": 23,
   "metadata": {},
   "outputs": [
    {
     "name": "stdout",
     "output_type": "stream",
     "text": [
      "0b111101\n",
      "0b1111\n",
      "0b1000111\n"
     ]
    }
   ],
   "source": [
    "print(bin(61))\n",
    "print(bin(15))\n",
    "print(bin(71))"
   ]
  },
  {
   "cell_type": "markdown",
   "metadata": {},
   "source": [
    "### Exercise 5\n",
    "When a = 61 and b = 15, what is the result of following bitwise opertion? Use inline comments to show your result in a binary number. Find your answer by hand.\n",
    "\n",
    "    a & b\n",
    "    a | b\n",
    "    a ^ b\n",
    "    a >> 2\n",
    "    "
   ]
  },
  {
   "cell_type": "code",
   "execution_count": 17,
   "metadata": {},
   "outputs": [
    {
     "name": "stdout",
     "output_type": "stream",
     "text": [
      "13\n",
      "0b1101\n"
     ]
    }
   ],
   "source": [
    " # 61-32 = 29, 29-16 = 13, 13-8 = 5, 5-4 = 1, 1-1 = 0; this comes out to: 0011 1101\n",
    " # 15-8 = 7, 7-4 = 3, 3-2 = 1, 1-1 = 0; this comes out to: 0000 1111\n",
    " # 0011 1101 and 0000 1111 together comes out to: 0000 1101; 1+4+8 comes out to 13\n",
    "a = 61\n",
    "b = 15\n",
    "print(a & b)\n",
    "print(bin(13))"
   ]
  },
  {
   "cell_type": "code",
   "execution_count": 19,
   "metadata": {},
   "outputs": [
    {
     "name": "stdout",
     "output_type": "stream",
     "text": [
      "63\n",
      "0b111111\n"
     ]
    }
   ],
   "source": [
    " # 0011 1101 and 0000 1111 combined with this \"|\" operator comes out to 0011 1111; 1+2+4+8+16+32 comes out to 63\n",
    "print(a | b)\n",
    "print(bin(63))"
   ]
  },
  {
   "cell_type": "code",
   "execution_count": 20,
   "metadata": {},
   "outputs": [
    {
     "name": "stdout",
     "output_type": "stream",
     "text": [
      "50\n",
      "0b110010\n"
     ]
    }
   ],
   "source": [
    "# 0011 1101 and 0000 1111 combined with this \"^\" operator comes out to 0011 0010; 2+16+32 comes out to 50\n",
    "print(a ^ b)\n",
    "print(bin(50))"
   ]
  },
  {
   "cell_type": "code",
   "execution_count": 22,
   "metadata": {},
   "outputs": [
    {
     "name": "stdout",
     "output_type": "stream",
     "text": [
      "15\n",
      "0b1111\n"
     ]
    }
   ],
   "source": [
    "# 0011 1101 with this \">>\" operator and \"2\" comes out to 0000 1111; 1+2+4+8 comes out to 15\n",
    "print(a >> 2)\n",
    "print(bin(15))"
   ]
  },
  {
   "cell_type": "code",
   "execution_count": null,
   "metadata": {},
   "outputs": [],
   "source": []
  }
 ],
 "metadata": {
  "kernelspec": {
   "display_name": "Python 3 (ipykernel)",
   "language": "python",
   "name": "python3"
  },
  "language_info": {
   "codemirror_mode": {
    "name": "ipython",
    "version": 3
   },
   "file_extension": ".py",
   "mimetype": "text/x-python",
   "name": "python",
   "nbconvert_exporter": "python",
   "pygments_lexer": "ipython3",
   "version": "3.9.12"
  }
 },
 "nbformat": 4,
 "nbformat_minor": 4
}
